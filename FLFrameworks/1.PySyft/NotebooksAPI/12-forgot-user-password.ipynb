{
 "cells": [
  {
   "cell_type": "markdown",
   "id": "0",
   "metadata": {},
   "source": [
    "# Forgot User Password"
   ]
  },
  {
   "cell_type": "markdown",
   "id": "1",
   "metadata": {},
   "source": [
    "## Initialize the server"
   ]
  },
  {
   "cell_type": "code",
   "execution_count": 1,
   "id": "2",
   "metadata": {},
   "outputs": [
    {
     "name": "stderr",
     "output_type": "stream",
     "text": [
      "/home/joserico/.local/lib/python3.10/site-packages/paramiko/pkey.py:100: CryptographyDeprecationWarning: TripleDES has been moved to cryptography.hazmat.decrepit.ciphers.algorithms.TripleDES and will be removed from this module in 48.0.0.\n",
      "  \"cipher\": algorithms.TripleDES,\n",
      "/home/joserico/.local/lib/python3.10/site-packages/paramiko/transport.py:259: CryptographyDeprecationWarning: TripleDES has been moved to cryptography.hazmat.decrepit.ciphers.algorithms.TripleDES and will be removed from this module in 48.0.0.\n",
      "  \"class\": algorithms.TripleDES,\n",
      "/home/joserico/.local/lib/python3.10/site-packages/matplotlib/projections/__init__.py:63: UserWarning: Unable to import Axes3D. This may be due to multiple versions of Matplotlib being installed (e.g. as a system package and as a pip package). As a result, the 3D projection is not available.\n",
      "  warnings.warn(\"Unable to import Axes3D. This may be due to multiple versions of \"\n"
     ]
    },
    {
     "name": "stdout",
     "output_type": "stream",
     "text": [
      "Autoreload enabled\n",
      "Starting Evaluating PySyft server on 0.0.0.0:8081\n",
      "Found `reset=True` in the launch configuration. Resetting the server...\n",
      "Stopping process on port: 8081\n",
      "Process 7768 terminated.\n",
      "Stopping process on port: 8081\n",
      "Error killing process 7782: [Errno 3] No such process\n"
     ]
    },
    {
     "name": "stderr",
     "output_type": "stream",
     "text": [
      "INFO:     Will watch for changes in these directories: ['/home/joserico/.local/lib/python3.10/site-packages/syft']\n",
      "INFO:     Uvicorn running on http://0.0.0.0:8081 (Press CTRL+C to quit)\n",
      "INFO:     Started reloader process [8361] using WatchFiles\n"
     ]
    },
    {
     "name": "stdout",
     "output_type": "stream",
     "text": [
      "Waiting for server to start"
     ]
    },
    {
     "name": "stderr",
     "output_type": "stream",
     "text": [
      "/home/joserico/.local/lib/python3.10/site-packages/paramiko/pkey.py:100: CryptographyDeprecationWarning: TripleDES has been moved to cryptography.hazmat.decrepit.ciphers.algorithms.TripleDES and will be removed from this module in 48.0.0.\n",
      "  \"cipher\": algorithms.TripleDES,\n",
      "/home/joserico/.local/lib/python3.10/site-packages/paramiko/transport.py:259: CryptographyDeprecationWarning: TripleDES has been moved to cryptography.hazmat.decrepit.ciphers.algorithms.TripleDES and will be removed from this module in 48.0.0.\n",
      "  \"class\": algorithms.TripleDES,\n",
      "/home/joserico/.local/lib/python3.10/site-packages/matplotlib/projections/__init__.py:63: UserWarning: Unable to import Axes3D. This may be due to multiple versions of Matplotlib being installed (e.g. as a system package and as a pip package). As a result, the 3D projection is not available.\n",
      "  warnings.warn(\"Unable to import Axes3D. This may be due to multiple versions of \"\n"
     ]
    },
    {
     "name": "stdout",
     "output_type": "stream",
     "text": [
      ".."
     ]
    },
    {
     "name": "stderr",
     "output_type": "stream",
     "text": [
      "INFO:     Started server process [8397]\n",
      "INFO:     Waiting for application startup.\n",
      "INFO:     Application startup complete.\n"
     ]
    },
    {
     "name": "stdout",
     "output_type": "stream",
     "text": [
      ". Done.\n",
      "WARN: private key is based on server name: Evaluating PySyft in dev_mode. Don't run this in production.\n",
      "INFO:     127.0.0.1:36436 - \"GET /api/v2/metadata HTTP/1.1\" 200 OK\n"
     ]
    },
    {
     "data": {
      "text/html": [
       "<div class=\"alert-info\" style=\"padding:5px;\"><strong>SyftInfo</strong>: <pre class=\"alert-info\" style=\"display:inline; font-family:inherit;\">You have launched a development server at http://0.0.0.0:8081.It is intended only for local use.</pre></div><br/>"
      ],
      "text/plain": [
       "SyftInfo: You have launched a development server at http://0.0.0.0:8081.It is intended only for local use."
      ]
     },
     "metadata": {},
     "output_type": "display_data"
    }
   ],
   "source": [
    "# stdlib\n",
    "\n",
    "# syft absolute\n",
    "import syft as sy\n",
    "from syft import SyftError\n",
    "from syft import SyftSuccess\n",
    "\n",
    "server = sy.orchestra.launch(\n",
    "    name=\"Evaluating PySyft\",\n",
    "    dev_mode=True,\n",
    "    create_producer=True,\n",
    "    n_consumers=3,\n",
    "    reset=True,\n",
    "    port=8081,\n",
    ")"
   ]
  },
  {
   "cell_type": "markdown",
   "id": "3",
   "metadata": {},
   "source": [
    "## Register a new user"
   ]
  },
  {
   "cell_type": "code",
   "execution_count": 2,
   "id": "4",
   "metadata": {},
   "outputs": [
    {
     "name": "stdout",
     "output_type": "stream",
     "text": [
      "INFO:     127.0.0.1:36450 - \"GET /api/v2/metadata HTTP/1.1\" 200 OK\n",
      "INFO:     127.0.0.1:36450 - \"POST /api/v2/login HTTP/1.1\" 200 OK\n",
      "INFO:     127.0.0.1:36450 - \"GET /api/v2/api?verify_key=ba46610f539d671d18f0ffa7775c829a7614bc10a201da7e4b0ae2065959a8be&communication_protocol=3 HTTP/1.1\" 200 OK\n",
      "INFO:     127.0.0.1:36466 - \"POST /api/v2/api_call HTTP/1.1\" 200 OK\n",
      "Logged into <Evaluating PySyft: High side Datasite> as <sba23021@student.cct.ie>\n"
     ]
    },
    {
     "data": {
      "text/html": [
       "<div class=\"alert-warning\" style=\"padding:5px;\"><strong>SyftWarning</strong>: <pre class=\"alert-warning\" style=\"display:inline; font-family:inherit;\">You are logged in as the data owner.</pre></div><br/>"
      ],
      "text/plain": [
       "SyftWarning: You are logged in as the data owner."
      ]
     },
     "metadata": {},
     "output_type": "display_data"
    },
    {
     "name": "stdout",
     "output_type": "stream",
     "text": [
      "INFO:     127.0.0.1:36450 - \"POST /api/v2/register HTTP/1.1\" 200 OK\n"
     ]
    }
   ],
   "source": [
    "datasite_client = server.login(email=\"sba23021@student.cct.ie\", password=\"abc54321\")\n",
    "res = datasite_client.register(\n",
    "    email=\"sba23032@student.cct.ie\",\n",
    "    password=\"10987654321abcde\",\n",
    "    password_verify=\"10987654321abcde\",\n",
    "    name=\"New User\",\n",
    ")\n",
    "\n",
    "if not isinstance(res, SyftSuccess):\n",
    "    raise Exception(f\"Res isn't SyftSuccess,  its {res}\")"
   ]
  },
  {
   "cell_type": "markdown",
   "id": "5",
   "metadata": {},
   "source": [
    "### Ask for a password reset - Notifier disabled Workflow"
   ]
  },
  {
   "cell_type": "markdown",
   "id": "6",
   "metadata": {},
   "source": [
    "### Call for users.forgot_password"
   ]
  },
  {
   "cell_type": "code",
   "execution_count": 3,
   "id": "7",
   "metadata": {},
   "outputs": [
    {
     "name": "stdout",
     "output_type": "stream",
     "text": [
      "INFO:     127.0.0.1:36472 - \"GET /api/v2/metadata HTTP/1.1\" 200 OK\n",
      "Logged into <Evaluating PySyft: High-side Datasite> as GUEST\n",
      "Logged into <Evaluating PySyft: High-side Datasite> as GUEST\n",
      "INFO:     127.0.0.1:36472 - \"GET /api/v2/api?verify_key=9d52ff3058b994b3825c8aed0876b3392526a285fd4a46ea72e3a44570362c3d&communication_protocol=3 HTTP/1.1\" 200 OK\n",
      "INFO:     127.0.0.1:36476 - \"POST /api/v2/api_call HTTP/1.1\" 200 OK\n"
     ]
    }
   ],
   "source": [
    "guest_client = server.login_as_guest()\n",
    "res = guest_client.users.forgot_password(email=\"sba23032@student.cct.ie\")\n",
    "\n",
    "if not isinstance(res, SyftSuccess):\n",
    "    raise Exception(f\"Res isn't SyftSuccess,  its {res}\")"
   ]
  },
  {
   "cell_type": "markdown",
   "id": "8",
   "metadata": {},
   "source": [
    "### Admin generates a temp token"
   ]
  },
  {
   "cell_type": "code",
   "execution_count": 4,
   "id": "9",
   "metadata": {},
   "outputs": [
    {
     "name": "stdout",
     "output_type": "stream",
     "text": [
      "INFO:     127.0.0.1:36486 - \"POST /api/v2/api_call HTTP/1.1\" 200 OK\n",
      "INFO:     127.0.0.1:36488 - \"POST /api/v2/api_call HTTP/1.1\" 200 OK\n",
      "INFO:     127.0.0.1:36492 - \"POST /api/v2/api_call HTTP/1.1\" 200 OK\n"
     ]
    }
   ],
   "source": [
    "temp_token = datasite_client.users.request_password_reset(\n",
    "    datasite_client.notifications[-1].linked_obj.resolve.id\n",
    ")\n",
    "\n",
    "if not isinstance(temp_token, str):\n",
    "    raise Exception(f\"temp_token isn't a string,  its {temp_token}\")"
   ]
  },
  {
   "cell_type": "markdown",
   "id": "10",
   "metadata": {},
   "source": [
    "### User use this token to reset password"
   ]
  },
  {
   "cell_type": "code",
   "execution_count": 5,
   "id": "11",
   "metadata": {},
   "outputs": [
    {
     "name": "stdout",
     "output_type": "stream",
     "text": [
      "INFO:     127.0.0.1:36494 - \"POST /api/v2/api_call HTTP/1.1\" 200 OK\n"
     ]
    }
   ],
   "source": [
    "res = guest_client.users.reset_password(token=temp_token, new_password=\"Password123\")\n",
    "\n",
    "if not isinstance(res, SyftSuccess):\n",
    "    raise Exception(f\"Res isn't SyftSuccess,  its {res}\")"
   ]
  },
  {
   "cell_type": "code",
   "execution_count": 6,
   "id": "12",
   "metadata": {},
   "outputs": [
    {
     "name": "stdout",
     "output_type": "stream",
     "text": [
      "INFO:     127.0.0.1:36508 - \"GET /api/v2/metadata HTTP/1.1\" 200 OK\n",
      "INFO:     127.0.0.1:36508 - \"POST /api/v2/login HTTP/1.1\" 200 OK\n",
      "INFO:     127.0.0.1:36508 - \"GET /api/v2/api?verify_key=3a4f4eb23d011b1c5a02a8641836a3004b5d1d4f55e8dae0c3fe040193198b3e&communication_protocol=3 HTTP/1.1\" 200 OK\n",
      "INFO:     127.0.0.1:36524 - \"POST /api/v2/api_call HTTP/1.1\" 200 OK\n",
      "Logged into <Evaluating PySyft: High side Datasite> as <sba23032@student.cct.ie>\n"
     ]
    }
   ],
   "source": [
    "new_user_session = server.login(\n",
    "    email=\"sba23032@student.cct.ie\", password=\"Password123\"\n",
    ")\n",
    "\n",
    "if isinstance(new_user_session, SyftError):\n",
    "    raise Exception(f\"Res isn't SyftSuccess,  its {new_user_session}\")"
   ]
  },
  {
   "cell_type": "markdown",
   "id": "7358373d-2b86-4c48-8032-f2c706a7bd37",
   "metadata": {},
   "source": [
    "## Reference:\n",
    "https://github.com/OpenMined/PySyft/tree/dev/notebooks/api/0.8"
   ]
  }
 ],
 "metadata": {
  "kernelspec": {
   "display_name": "Python 3 (ipykernel)",
   "language": "python",
   "name": "python3"
  },
  "language_info": {
   "codemirror_mode": {
    "name": "ipython",
    "version": 3
   },
   "file_extension": ".py",
   "mimetype": "text/x-python",
   "name": "python",
   "nbconvert_exporter": "python",
   "pygments_lexer": "ipython3",
   "version": "3.11.5"
  }
 },
 "nbformat": 4,
 "nbformat_minor": 5
}
