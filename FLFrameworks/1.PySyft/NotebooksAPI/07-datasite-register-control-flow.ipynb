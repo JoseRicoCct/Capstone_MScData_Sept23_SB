{
 "cells": [
  {
   "cell_type": "markdown",
   "id": "0",
   "metadata": {},
   "source": [
    "# Registering Users in Syft Datasite Server\n",
    "\n",
    "By default users are not allowed to create a new account on the Syft Datasite Server. This notebook is a tutorial for Data Owners to enable guest signups on their deployments."
   ]
  },
  {
   "cell_type": "markdown",
   "id": "1",
   "metadata": {},
   "source": [
    "### Import packages"
   ]
  },
  {
   "cell_type": "code",
   "execution_count": 1,
   "id": "2",
   "metadata": {},
   "outputs": [],
   "source": [
    "SYFT_VERSION = \">=0.9,<1.0.0\"\n",
    "package_string = f'\"syft{SYFT_VERSION}\"'\n",
    "# %pip install {package_string} -q"
   ]
  },
  {
   "cell_type": "code",
   "execution_count": 2,
   "id": "3",
   "metadata": {},
   "outputs": [
    {
     "name": "stderr",
     "output_type": "stream",
     "text": [
      "/home/joserico/.local/lib/python3.10/site-packages/paramiko/pkey.py:100: CryptographyDeprecationWarning: TripleDES has been moved to cryptography.hazmat.decrepit.ciphers.algorithms.TripleDES and will be removed from this module in 48.0.0.\n",
      "  \"cipher\": algorithms.TripleDES,\n",
      "/home/joserico/.local/lib/python3.10/site-packages/paramiko/transport.py:259: CryptographyDeprecationWarning: TripleDES has been moved to cryptography.hazmat.decrepit.ciphers.algorithms.TripleDES and will be removed from this module in 48.0.0.\n",
      "  \"class\": algorithms.TripleDES,\n",
      "/home/joserico/.local/lib/python3.10/site-packages/matplotlib/projections/__init__.py:63: UserWarning: Unable to import Axes3D. This may be due to multiple versions of Matplotlib being installed (e.g. as a system package and as a pip package). As a result, the 3D projection is not available.\n",
      "  warnings.warn(\"Unable to import Axes3D. This may be due to multiple versions of \"\n"
     ]
    },
    {
     "name": "stdout",
     "output_type": "stream",
     "text": [
      "✅ The installed version of syft==0.9.1b1 matches the requirement >=0.9 and the requirement <1.0.0\n"
     ]
    }
   ],
   "source": [
    "# syft absolute\n",
    "import syft as sy\n",
    "\n",
    "sy.requires(SYFT_VERSION)"
   ]
  },
  {
   "cell_type": "markdown",
   "id": "4",
   "metadata": {},
   "source": [
    "### Launch a Syft Datasite Server"
   ]
  },
  {
   "cell_type": "code",
   "execution_count": 3,
   "id": "5",
   "metadata": {},
   "outputs": [
    {
     "name": "stdout",
     "output_type": "stream",
     "text": [
      "Autoreload enabled\n",
      "Starting Evaluating PySyft server on 0.0.0.0:60613\n"
     ]
    },
    {
     "name": "stderr",
     "output_type": "stream",
     "text": [
      "INFO:     Will watch for changes in these directories: ['/home/joserico/.local/lib/python3.10/site-packages/syft']\n",
      "INFO:     Uvicorn running on http://0.0.0.0:60613 (Press CTRL+C to quit)\n",
      "INFO:     Started reloader process [6705] using WatchFiles\n"
     ]
    },
    {
     "name": "stdout",
     "output_type": "stream",
     "text": [
      "Waiting for server to start"
     ]
    },
    {
     "name": "stderr",
     "output_type": "stream",
     "text": [
      "/home/joserico/.local/lib/python3.10/site-packages/paramiko/pkey.py:100: CryptographyDeprecationWarning: TripleDES has been moved to cryptography.hazmat.decrepit.ciphers.algorithms.TripleDES and will be removed from this module in 48.0.0.\n",
      "  \"cipher\": algorithms.TripleDES,\n",
      "/home/joserico/.local/lib/python3.10/site-packages/paramiko/transport.py:259: CryptographyDeprecationWarning: TripleDES has been moved to cryptography.hazmat.decrepit.ciphers.algorithms.TripleDES and will be removed from this module in 48.0.0.\n",
      "  \"class\": algorithms.TripleDES,\n"
     ]
    },
    {
     "name": "stdout",
     "output_type": "stream",
     "text": [
      "."
     ]
    },
    {
     "name": "stderr",
     "output_type": "stream",
     "text": [
      "/home/joserico/.local/lib/python3.10/site-packages/matplotlib/projections/__init__.py:63: UserWarning: Unable to import Axes3D. This may be due to multiple versions of Matplotlib being installed (e.g. as a system package and as a pip package). As a result, the 3D projection is not available.\n",
      "  warnings.warn(\"Unable to import Axes3D. This may be due to multiple versions of \"\n"
     ]
    },
    {
     "name": "stdout",
     "output_type": "stream",
     "text": [
      "."
     ]
    },
    {
     "name": "stderr",
     "output_type": "stream",
     "text": [
      "INFO:     Started server process [6713]\n",
      "INFO:     Waiting for application startup.\n",
      "INFO:     Application startup complete.\n"
     ]
    },
    {
     "name": "stdout",
     "output_type": "stream",
     "text": [
      ".WARN: private key is based on server name: Evaluating PySyft in dev_mode. Don't run this in production.\n",
      "INFO:     127.0.0.1:57728 - \"GET /api/v2/metadata HTTP/1.1\" 200 OK\n",
      " Done.\n"
     ]
    },
    {
     "data": {
      "text/html": [
       "<div class=\"alert-info\" style=\"padding:5px;\"><strong>SyftInfo</strong>: <pre class=\"alert-info\" style=\"display:inline; font-family:inherit;\">You have launched a development server at http://0.0.0.0:60613.It is intended only for local use.</pre></div><br/>"
      ],
      "text/plain": [
       "SyftInfo: You have launched a development server at http://0.0.0.0:60613.It is intended only for local use."
      ]
     },
     "metadata": {},
     "output_type": "display_data"
    }
   ],
   "source": [
    "server = sy.orchestra.launch(name=\"Evaluating PySyft\", port=\"auto\", dev_mode=True)"
   ]
  },
  {
   "cell_type": "code",
   "execution_count": 4,
   "id": "6",
   "metadata": {},
   "outputs": [
    {
     "name": "stdout",
     "output_type": "stream",
     "text": [
      "INFO:     127.0.0.1:57740 - \"GET /api/v2/metadata HTTP/1.1\" 200 OK\n",
      "INFO:     127.0.0.1:57740 - \"POST /api/v2/login HTTP/1.1\" 200 OK\n",
      "INFO:     127.0.0.1:57740 - \"GET /api/v2/api?verify_key=ba46610f539d671d18f0ffa7775c829a7614bc10a201da7e4b0ae2065959a8be&communication_protocol=3 HTTP/1.1\" 200 OK\n",
      "INFO:     127.0.0.1:57746 - \"POST /api/v2/api_call HTTP/1.1\" 200 OK\n",
      "Logged into <Evaluating PySyft: High side Datasite> as <sba23021@student.cct.ie>\n"
     ]
    },
    {
     "data": {
      "text/html": [
       "<div class=\"alert-warning\" style=\"padding:5px;\"><strong>SyftWarning</strong>: <pre class=\"alert-warning\" style=\"display:inline; font-family:inherit;\">You are logged in as the data owner.</pre></div><br/>"
      ],
      "text/plain": [
       "SyftWarning: You are logged in as the data owner."
      ]
     },
     "metadata": {},
     "output_type": "display_data"
    }
   ],
   "source": [
    "# log into the server with default root credentials\n",
    "root_client = server.login(email=\"sba23021@student.cct.ie\", password=\"abc54321\")"
   ]
  },
  {
   "cell_type": "markdown",
   "id": "7",
   "metadata": {},
   "source": [
    "#### By default registration is disabled. Only `root_client` can register"
   ]
  },
  {
   "cell_type": "code",
   "execution_count": 5,
   "id": "8",
   "metadata": {},
   "outputs": [],
   "source": [
    "# The assumed state of this test is a server with signup set to False\n",
    "# however if the tox task has set it to True you need to overwrite the setting\n",
    "# before running the tests\n",
    "# root_client.settings.allow_guest_signup(enable=False)"
   ]
  },
  {
   "cell_type": "code",
   "execution_count": 6,
   "id": "9",
   "metadata": {},
   "outputs": [
    {
     "name": "stdout",
     "output_type": "stream",
     "text": [
      "INFO:     127.0.0.1:57740 - \"POST /api/v2/register HTTP/1.1\" 200 OK\n"
     ]
    },
    {
     "data": {
      "text/html": [
       "<div class=\"alert-success\" style=\"padding:5px;\"><strong>SyftSuccess</strong>: <pre class=\"alert-success\" style=\"display:inline; font-family:inherit;\">User 'Kylian Junior' successfully registered! To see users, run `[your_client].users`</pre></div><br/>"
      ],
      "text/plain": [
       "SyftSuccess: User 'Kylian Junior' successfully registered! To see users, run `[your_client].users`"
      ]
     },
     "execution_count": 6,
     "metadata": {},
     "output_type": "execute_result"
    }
   ],
   "source": [
    "# Register a new user using root credentials\n",
    "response_1 = root_client.register(\n",
    "    email=\"sba23027@student.cct.ie\",\n",
    "    password=\"wyz98765\",\n",
    "    password_verify=\"wyz98765\",\n",
    "    name=\"Kylian Junior\",\n",
    ")\n",
    "response_1"
   ]
  },
  {
   "cell_type": "code",
   "execution_count": 7,
   "id": "10",
   "metadata": {},
   "outputs": [
    {
     "name": "stdout",
     "output_type": "stream",
     "text": [
      "Logged into <Evaluating PySyft: High-side Datasite> as GUESTINFO:     127.0.0.1:57754 - \"GET /api/v2/metadata HTTP/1.1\" 200 OK\n",
      "\n",
      "INFO:     127.0.0.1:57754 - \"POST /api/v2/register HTTP/1.1\" 200 OK\n"
     ]
    },
    {
     "name": "stderr",
     "output_type": "stream",
     "text": [
      "ERROR:syft.server.routes:Register Error: You don't have permission to create an account on the datasite: Evaluating PySyft. Please contact the Datasite Owner.. user={'id': <UID: c018198dfe66476097b095709dbb4d22>, 'created_date': None, 'updated_date': None, 'deleted_date': None, 'email': 'sba23028@student.cct.ie', 'name': 'Victoria Zambrotta', 'role': None, 'password': '1rIzHAx6uQaP', 'password_verify': '1rIzHAx6uQaP', 'verify_key': None, 'institution': None, 'website': None, 'created_by': {'signing_key': <nacl.signing.SigningKey object at 0x7a6a1f2867d0>}, 'mock_execution_permission': False}\n"
     ]
    },
    {
     "data": {
      "text/html": [
       "<div class=\"alert-danger\" style=\"padding:5px;\"><strong>SyftError</strong>: <pre class=\"alert-danger\" style=\"display:inline; font-family:inherit;\">You don't have permission to create an account on the datasite: Evaluating PySyft. Please contact the Datasite Owner.</pre></div><br/>"
      ],
      "text/plain": [
       "SyftError: You don't have permission to create an account on the datasite: Evaluating PySyft. Please contact the Datasite Owner."
      ]
     },
     "execution_count": 7,
     "metadata": {},
     "output_type": "execute_result"
    }
   ],
   "source": [
    "# Register a new user as a GUEST\n",
    "response_2 = server.register(\n",
    "    email=\"sba23028@student.cct.ie\",\n",
    "    password=\"1rIzHAx6uQaP\",\n",
    "    password_verify=\"1rIzHAx6uQaP\",\n",
    "    name=\"Victoria Zambrotta\",\n",
    ")\n",
    "response_2"
   ]
  },
  {
   "cell_type": "code",
   "execution_count": 8,
   "id": "11",
   "metadata": {},
   "outputs": [
    {
     "name": "stdout",
     "output_type": "stream",
     "text": [
      "INFO:     127.0.0.1:57764 - \"GET /api/v2/metadata HTTP/1.1\" 200 OK\n",
      "Logged into <Evaluating PySyft: High-side Datasite> as GUEST\n",
      "INFO:     127.0.0.1:57764 - \"POST /api/v2/register HTTP/1.1\" 200 OK\n"
     ]
    },
    {
     "name": "stderr",
     "output_type": "stream",
     "text": [
      "ERROR:syft.server.routes:Register Error: You don't have permission to create an account on the datasite: Evaluating PySyft. Please contact the Datasite Owner.. user={'id': <UID: efc1ccd6e5bb4d74a29caeeba2321fef>, 'created_date': None, 'updated_date': None, 'deleted_date': None, 'email': 'sba23029@student.cct.ie', 'name': 'Kevin Brennans', 'role': None, 'password': '5v1ei4OM2N4m', 'password_verify': '5v1ei4OM2N4m', 'verify_key': None, 'institution': None, 'website': None, 'created_by': {'signing_key': <nacl.signing.SigningKey object at 0x7a6a1f285060>}, 'mock_execution_permission': False}\n"
     ]
    },
    {
     "data": {
      "text/html": [
       "<div class=\"alert-danger\" style=\"padding:5px;\"><strong>SyftError</strong>: <pre class=\"alert-danger\" style=\"display:inline; font-family:inherit;\">You don't have permission to create an account on the datasite: Evaluating PySyft. Please contact the Datasite Owner.</pre></div><br/>"
      ],
      "text/plain": [
       "SyftError: You don't have permission to create an account on the datasite: Evaluating PySyft. Please contact the Datasite Owner."
      ]
     },
     "execution_count": 8,
     "metadata": {},
     "output_type": "execute_result"
    }
   ],
   "source": [
    "# Register a new user as a GUEST\n",
    "response_3 = server.register(\n",
    "    email=\"sba23029@student.cct.ie\",\n",
    "    password=\"5v1ei4OM2N4m\",\n",
    "    password_verify=\"5v1ei4OM2N4m\",\n",
    "    name=\"Kevin Brennans\",\n",
    ")\n",
    "response_3"
   ]
  },
  {
   "cell_type": "code",
   "execution_count": 9,
   "id": "12",
   "metadata": {},
   "outputs": [
    {
     "name": "stdout",
     "output_type": "stream",
     "text": [
      "INFO:     127.0.0.1:57778 - \"POST /api/v2/api_call HTTP/1.1\" 200 OK\n"
     ]
    }
   ],
   "source": [
    "assert root_client.settings.get().signup_enabled is False\n",
    "assert isinstance(response_1, sy.SyftSuccess)\n",
    "assert isinstance(response_2, sy.SyftError)\n",
    "assert isinstance(response_3, sy.SyftError)"
   ]
  },
  {
   "cell_type": "markdown",
   "id": "13",
   "metadata": {},
   "source": [
    "#### Now, if root user enable registration, then the guest clients can also register"
   ]
  },
  {
   "cell_type": "code",
   "execution_count": 10,
   "id": "14",
   "metadata": {},
   "outputs": [
    {
     "name": "stdout",
     "output_type": "stream",
     "text": [
      "INFO:     127.0.0.1:57788 - \"POST /api/v2/api_call HTTP/1.1\" 200 OK\n",
      "INFO:     127.0.0.1:57798 - \"POST /api/v2/api_call HTTP/1.1\" 200 OK\n"
     ]
    },
    {
     "data": {
      "text/html": [
       "\n",
       "<style>/* cyrillic-ext */\n",
       "@font-face {\n",
       "  font-family: \"Open Sans\";\n",
       "  font-style: normal;\n",
       "  font-weight: 300 800;\n",
       "  font-stretch: 100%;\n",
       "  src: url(https://fonts.gstatic.com/s/opensans/v35/memvYaGs126MiZpBA-UvWbX2vVnXBbObj2OVTSKmu0SC55K5gw.woff2)\n",
       "    format(\"woff2\");\n",
       "  unicode-range: U+0460-052F, U+1C80-1C88, U+20B4, U+2DE0-2DFF, U+A640-A69F,\n",
       "    U+FE2E-FE2F;\n",
       "}\n",
       "\n",
       "/* cyrillic */\n",
       "@font-face {\n",
       "  font-family: \"Open Sans\";\n",
       "  font-style: normal;\n",
       "  font-weight: 300 800;\n",
       "  font-stretch: 100%;\n",
       "  src: url(https://fonts.gstatic.com/s/opensans/v35/memvYaGs126MiZpBA-UvWbX2vVnXBbObj2OVTSumu0SC55K5gw.woff2)\n",
       "    format(\"woff2\");\n",
       "  unicode-range: U+0301, U+0400-045F, U+0490-0491, U+04B0-04B1, U+2116;\n",
       "}\n",
       "\n",
       "/* greek-ext */\n",
       "@font-face {\n",
       "  font-family: \"Open Sans\";\n",
       "  font-style: normal;\n",
       "  font-weight: 300 800;\n",
       "  font-stretch: 100%;\n",
       "  src: url(https://fonts.gstatic.com/s/opensans/v35/memvYaGs126MiZpBA-UvWbX2vVnXBbObj2OVTSOmu0SC55K5gw.woff2)\n",
       "    format(\"woff2\");\n",
       "  unicode-range: U+1F00-1FFF;\n",
       "}\n",
       "\n",
       "/* greek */\n",
       "@font-face {\n",
       "  font-family: \"Open Sans\";\n",
       "  font-style: normal;\n",
       "  font-weight: 300 800;\n",
       "  font-stretch: 100%;\n",
       "  src: url(https://fonts.gstatic.com/s/opensans/v35/memvYaGs126MiZpBA-UvWbX2vVnXBbObj2OVTSymu0SC55K5gw.woff2)\n",
       "    format(\"woff2\");\n",
       "  unicode-range: U+0370-03FF;\n",
       "}\n",
       "\n",
       "/* hebrew */\n",
       "@font-face {\n",
       "  font-family: \"Open Sans\";\n",
       "  font-style: normal;\n",
       "  font-weight: 300 800;\n",
       "  font-stretch: 100%;\n",
       "  src: url(https://fonts.gstatic.com/s/opensans/v35/memvYaGs126MiZpBA-UvWbX2vVnXBbObj2OVTS2mu0SC55K5gw.woff2)\n",
       "    format(\"woff2\");\n",
       "  unicode-range: U+0590-05FF, U+200C-2010, U+20AA, U+25CC, U+FB1D-FB4F;\n",
       "}\n",
       "\n",
       "/* vietnamese */\n",
       "@font-face {\n",
       "  font-family: \"Open Sans\";\n",
       "  font-style: normal;\n",
       "  font-weight: 300 800;\n",
       "  font-stretch: 100%;\n",
       "  src: url(https://fonts.gstatic.com/s/opensans/v35/memvYaGs126MiZpBA-UvWbX2vVnXBbObj2OVTSCmu0SC55K5gw.woff2)\n",
       "    format(\"woff2\");\n",
       "  unicode-range: U+0102-0103, U+0110-0111, U+0128-0129, U+0168-0169, U+01A0-01A1,\n",
       "    U+01AF-01B0, U+0300-0301, U+0303-0304, U+0308-0309, U+0323, U+0329,\n",
       "    U+1EA0-1EF9, U+20AB;\n",
       "}\n",
       "\n",
       "/* latin-ext */\n",
       "@font-face {\n",
       "  font-family: \"Open Sans\";\n",
       "  font-style: normal;\n",
       "  font-weight: 300 800;\n",
       "  font-stretch: 100%;\n",
       "  src: url(https://fonts.gstatic.com/s/opensans/v35/memvYaGs126MiZpBA-UvWbX2vVnXBbObj2OVTSGmu0SC55K5gw.woff2)\n",
       "    format(\"woff2\");\n",
       "  unicode-range: U+0100-02AF, U+0304, U+0308, U+0329, U+1E00-1E9F, U+1EF2-1EFF,\n",
       "    U+2020, U+20A0-20AB, U+20AD-20CF, U+2113, U+2C60-2C7F, U+A720-A7FF;\n",
       "}\n",
       "\n",
       "/* latin */\n",
       "@font-face {\n",
       "  font-family: \"Open Sans\";\n",
       "  font-style: normal;\n",
       "  font-weight: 300 800;\n",
       "  font-stretch: 100%;\n",
       "  src: url(https://fonts.gstatic.com/s/opensans/v35/memvYaGs126MiZpBA-UvWbX2vVnXBbObj2OVTS-mu0SC55I.woff2)\n",
       "    format(\"woff2\");\n",
       "  unicode-range: U+0000-00FF, U+0131, U+0152-0153, U+02BB-02BC, U+02C6, U+02DA,\n",
       "    U+02DC, U+0304, U+0308, U+0329, U+2000-206F, U+2074, U+20AC, U+2122, U+2191,\n",
       "    U+2193, U+2212, U+2215, U+FEFF, U+FFFD;\n",
       "}\n",
       "</style>\n",
       "<style>.itables {\n",
       "  font-family: \"Consolas\", monospace, sans-serif;\n",
       "}\n",
       "</style>\n",
       "\n",
       "<script>\n",
       "function addStyleSheet(fileName) {\n",
       "  var head = document.head;\n",
       "  var link = document.createElement(\"link\");\n",
       "\n",
       "  link.type = \"text/css\";\n",
       "  link.rel = \"stylesheet\";\n",
       "  link.href = fileName;\n",
       "\n",
       "  head.appendChild(link);\n",
       "}\n",
       "\n",
       "addStyleSheet(\"https://fonts.googleapis.com/css2?family=Karla:ital,wght@0,200;0,300;0,400;0,500;0,600;0,700;0,800;1,200;1,300;1,400;1,500;1,600;1,700;1,800&family=Open+Sans:ital,wght@0,300..800;1,300..800&display=swap\")\n",
       "addStyleSheet(\"https://fonts.cdnfonts.com/css/dejavu-sans-mono\")\n",
       "</script>\n",
       "\n",
       "\n",
       "<style>\n",
       "  body[data-jp-theme-light=\"false\"],\n",
       "body.vscode-dark {\n",
       "  --primary-color: #111111;\n",
       "  --secondary-color: #212121;\n",
       "  --tertiary-color: #cfcdd6;\n",
       "  --button-color: #111111;\n",
       "  --colors-black: #ffffff;\n",
       "  --surface-color: #fff;\n",
       "  --text-color: #ffffff;\n",
       "}\n",
       "\n",
       "body {\n",
       "  --primary-color: #ffffff;\n",
       "  --secondary-color: #f5f5f5;\n",
       "  --tertiary-color: #000000de;\n",
       "  --button-color: #d1d5db;\n",
       "  --colors-black: #17161d;\n",
       "  --surface-color: #464158;\n",
       "  --text-color: #2e2b3b;\n",
       "}\n",
       "\n",
       ".header-1 {\n",
       "  font-style: normal;\n",
       "  font-weight: 600;\n",
       "  font-size: 2.0736em;\n",
       "  line-height: 100%;\n",
       "  leading-trim: both;\n",
       "  text-edge: cap;\n",
       "  color: var(--colors-black);\n",
       "}\n",
       "\n",
       ".header-2 {\n",
       "  font-style: normal;\n",
       "  font-weight: 600;\n",
       "  font-size: 1.728em;\n",
       "  line-height: 100%;\n",
       "  leading-trim: both;\n",
       "  text-edge: cap;\n",
       "  color: var(--colors-black);\n",
       "}\n",
       "\n",
       ".header-3 {\n",
       "  font-style: normal;\n",
       "  font-weight: 600;\n",
       "  font-size: 1.44em;\n",
       "  line-height: 100%;\n",
       "  leading-trim: both;\n",
       "  text-edge: cap;\n",
       "  color: var(--tertiary-color);\n",
       "}\n",
       "\n",
       ".header-4 {\n",
       "  font-style: normal;\n",
       "  font-weight: 600;\n",
       "  font-size: 1.2em;\n",
       "  line-height: 100%;\n",
       "  leading-trim: both;\n",
       "  text-edge: cap;\n",
       "  color: var(--colors-black);\n",
       "}\n",
       "\n",
       ".paragraph {\n",
       "  font-style: normal;\n",
       "  font-weight: 400;\n",
       "  font-size: 14px;\n",
       "  line-height: 100%;\n",
       "  leading-trim: both;\n",
       "  text-edge: cap;\n",
       "  color: var(--text-color);\n",
       "}\n",
       "\n",
       ".paragraph-sm {\n",
       "  font-family: \"Roboto\";\n",
       "  font-style: normal;\n",
       "  font-weight: 400;\n",
       "  font-size: 11.62px;\n",
       "  line-height: 100%;\n",
       "  leading-trim: both;\n",
       "  text-edge: cap;\n",
       "  color: var(--text-color);\n",
       "}\n",
       "\n",
       ".code-text {\n",
       "  font-family: \"Consolas\";\n",
       "  font-style: normal;\n",
       "  font-weight: 400;\n",
       "  font-size: 13px;\n",
       "  line-height: 130%;\n",
       "  leading-trim: both;\n",
       "  text-edge: cap;\n",
       "  color: var(--text-color);\n",
       "}\n",
       "\n",
       ".numbering-entry {\n",
       "  display: none;\n",
       "}\n",
       "\n",
       "/* Tooltip container */\n",
       ".tooltip {\n",
       "  position: relative;\n",
       "  display: inline-block;\n",
       "  border-bottom: 1px dotted black;\n",
       "  /* If you want dots under the hoverable text */\n",
       "}\n",
       "\n",
       "/* Tooltip text */\n",
       ".tooltip .tooltiptext {\n",
       "  visibility: hidden;\n",
       "  width: 120px;\n",
       "  background-color: black;\n",
       "  color: #fff;\n",
       "  text-align: center;\n",
       "  padding: 5px 0;\n",
       "  border-radius: 6px;\n",
       "\n",
       "  /* Position the tooltip text - see examples below! */\n",
       "  position: absolute;\n",
       "  z-index: 1;\n",
       "}\n",
       "\n",
       ".repr-cell {\n",
       "  padding-top: 20px;\n",
       "}\n",
       "\n",
       ".text-bold {\n",
       "  font-weight: bold;\n",
       "}\n",
       "\n",
       ".pr-8 {\n",
       "  padding-right: 8px;\n",
       "}\n",
       "\n",
       ".pt-8 {\n",
       "  padding-top: 8px;\n",
       "}\n",
       "\n",
       ".pl-8 {\n",
       "  padding-left: 8px;\n",
       "}\n",
       "\n",
       ".pb-8 {\n",
       "  padding-bottom: 8px;\n",
       "}\n",
       "\n",
       ".py-25 {\n",
       "  padding-top: 25px;\n",
       "  padding-bottom: 25px;\n",
       "}\n",
       "\n",
       ".flex {\n",
       "  display: flex;\n",
       "}\n",
       "\n",
       ".gap-10 {\n",
       "  gap: 10px;\n",
       "}\n",
       "\n",
       ".items-center {\n",
       "  align-items: center;\n",
       "}\n",
       "\n",
       ".folder-icon {\n",
       "  color: var(--tertiary-color);\n",
       "}\n",
       "\n",
       ".search-input {\n",
       "  display: flex;\n",
       "  flex-direction: row;\n",
       "  align-items: center;\n",
       "  padding: 8px 12px;\n",
       "  width: 343px;\n",
       "  height: 24px;\n",
       "  /* Lt On Surface/Low */\n",
       "  background-color: var(--secondary-color);\n",
       "  border-radius: 30px;\n",
       "\n",
       "  /* Lt On Surface/Highest */\n",
       "  color: var(--tertiary-color);\n",
       "  border: none;\n",
       "  /* Inside auto layout */\n",
       "  flex: none;\n",
       "  order: 0;\n",
       "  flex-grow: 0;\n",
       "}\n",
       "\n",
       ".search-input:focus {\n",
       "  outline: none;\n",
       "}\n",
       "\n",
       ".search-input:focus::placeholder,\n",
       ".search-input::placeholder {\n",
       "  /* Chrome, Firefox, Opera, Safari 10.1+ */\n",
       "  color: var(--tertiary-color);\n",
       "  opacity: 1;\n",
       "  /* Firefox */\n",
       "}\n",
       "\n",
       ".search-button {\n",
       "  /* Search */\n",
       "  leading-trim: both;\n",
       "  text-edge: cap;\n",
       "  display: flex;\n",
       "  align-items: center;\n",
       "  text-align: center;\n",
       "\n",
       "  /* Primary/On Light */\n",
       "  background-color: var(--button-color);\n",
       "  color: var(--tertiary-color);\n",
       "\n",
       "  border-radius: 30px;\n",
       "  border-color: var(--secondary-color);\n",
       "  border-style: solid;\n",
       "  box-shadow:\n",
       "    rgba(60, 64, 67, 0.3) 0px 1px 2px 0px,\n",
       "    rgba(60, 64, 67, 0.15) 0px 1px 3px 1px;\n",
       "  cursor: pointer;\n",
       "  /* Inside auto layout */\n",
       "  flex: none;\n",
       "  order: 1;\n",
       "  flex-grow: 0;\n",
       "}\n",
       "\n",
       ".grid-index-cells {\n",
       "  grid-column: span 1;\n",
       "  /* tmp fix to make left col stand out (fix with font-family) */\n",
       "  font-weight: 600;\n",
       "  background-color: var(--secondary-color) !important;\n",
       "  color: var(--tertiary-color);\n",
       "}\n",
       "\n",
       ".center-content-cell {\n",
       "  margin: auto;\n",
       "}\n",
       "\n",
       ".grid-header {\n",
       "  /* Auto layout */\n",
       "  display: flex;\n",
       "  flex-direction: column;\n",
       "  align-items: center;\n",
       "  padding: 6px 4px;\n",
       "\n",
       "  resize: horizontal;\n",
       "  /* Lt On Surface/Surface */\n",
       "  /* Lt On Surface/High */\n",
       "  border: 1px solid #cfcdd6;\n",
       "  /* tmp fix to make header stand out (fix with font-family) */\n",
       "  font-weight: 600;\n",
       "  background-color: var(--secondary-color);\n",
       "  color: var(--tertiary-color);\n",
       "}\n",
       "\n",
       ".grid-row {\n",
       "  display: flex;\n",
       "  flex-direction: column;\n",
       "  align-items: flex-start;\n",
       "  padding: 6px 4px;\n",
       "  overflow: hidden;\n",
       "  border: 1px solid #cfcdd6;\n",
       "  background-color: var(--primary-color);\n",
       "  color: var(--tertiary-color);\n",
       "}\n",
       "\n",
       ".syncstate-col-footer {\n",
       "  font-family: \"DejaVu Sans Mono\", \"Open Sans\";\n",
       "  font-size: 12px;\n",
       "  font-weight: 400;\n",
       "  line-height: 16.8px;\n",
       "  text-align: left;\n",
       "  color: #5e5a72;\n",
       "}\n",
       "\n",
       ".syncstate-description {\n",
       "  font-family: Open Sans;\n",
       "  font-size: 14px;\n",
       "  font-weight: 600;\n",
       "  line-height: 19.6px;\n",
       "  text-align: left;\n",
       "  white-space: nowrap;\n",
       "  flex-grow: 1;\n",
       "}\n",
       "\n",
       ".widget-header2 {\n",
       "  display: flex;\n",
       "  gap: 8px;\n",
       "  justify-content: start;\n",
       "  width: 100%;\n",
       "  overflow: hidden;\n",
       "  align-items: center;\n",
       "}\n",
       "\n",
       ".widget-header2-2 {\n",
       "  display: flex;\n",
       "  gap: 8px;\n",
       "  justify-content: start;\n",
       "  align-items: center;\n",
       "}\n",
       "\n",
       ".jobs-title {\n",
       "  font-family:\n",
       "    Open Sans,\n",
       "    sans-serif;\n",
       "  font-size: 18px;\n",
       "  font-weight: 600;\n",
       "  line-height: 25.2px;\n",
       "  text-align: left;\n",
       "  color: #1f567a;\n",
       "}\n",
       "\n",
       ".diff-state-orange-text {\n",
       "  color: #b8520a;\n",
       "}\n",
       "\n",
       ".diff-state-no-obj {\n",
       "  font-family: \"DejaVu Sans Mono\", \"Open Sans\";\n",
       "  font-size: 12px;\n",
       "  font-weight: 400;\n",
       "  line-height: 16.8px;\n",
       "  text-align: left;\n",
       "  color: #5e5a72;\n",
       "}\n",
       "\n",
       ".diff-state-intro {\n",
       "  font-family: Open Sans;\n",
       "  font-size: 14px;\n",
       "  font-weight: 400;\n",
       "  line-height: 19.6px;\n",
       "  text-align: left;\n",
       "  color: #b4b0bf;\n",
       "}\n",
       "\n",
       ".diff-state-header {\n",
       "  font-family: Open Sans;\n",
       "  font-size: 22px;\n",
       "  font-weight: 600;\n",
       "  line-height: 30.8px;\n",
       "  text-align: left;\n",
       "  color: #353243;\n",
       "  display: flex;\n",
       "  gap: 8px;\n",
       "}\n",
       "\n",
       ".diff-state-sub-header {\n",
       "  font-family: Open Sans;\n",
       "  font-size: 14px;\n",
       "  font-weight: 400;\n",
       "  line-height: 19.6px;\n",
       "  text-align: left;\n",
       "  color: #5e5a72;\n",
       "}\n",
       "\n",
       ".badge {\n",
       "  /* code-text; */\n",
       "  border-radius: 30px;\n",
       "  padding: 6px;\n",
       "  white-space: nowrap;\n",
       "  overflow: hidden;\n",
       "  line-height: 1.2;\n",
       "  font-family: monospace;\n",
       "}\n",
       "\n",
       ".label {\n",
       "  /* code-text; */\n",
       "  border-radius: 4px;\n",
       "  padding: 6px 4px;\n",
       "  white-space: nowrap;\n",
       "  overflow: hidden;\n",
       "  line-height: 1.2;\n",
       "  font-family: monospace;\n",
       "}\n",
       "\n",
       ".label-light-purple {\n",
       "  /* label; */\n",
       "  background-color: #c9cfe8;\n",
       "  color: #373b7b;\n",
       "}\n",
       "\n",
       ".label-light-blue {\n",
       "  /* label; */\n",
       "  background-color: #c2def0;\n",
       "  color: #1f567a;\n",
       "}\n",
       "\n",
       ".label-orange {\n",
       "  /* badge; */\n",
       "  background-color: #fee9cd;\n",
       "  color: #b8520a;\n",
       "}\n",
       "\n",
       ".label-gray {\n",
       "  /* badge; */\n",
       "  background-color: #ecebef;\n",
       "  color: #353243;\n",
       "}\n",
       "\n",
       ".label-green {\n",
       "  /* badge; */\n",
       "  background-color: #d5f1d5;\n",
       "  color: #256b24;\n",
       "}\n",
       "\n",
       ".label-red {\n",
       "  /* label; */\n",
       "  background-color: #f2d9de;\n",
       "  color: #9b2737;\n",
       "}\n",
       "\n",
       ".badge-blue {\n",
       "  /* badge; */\n",
       "  background-color: #c2def0;\n",
       "  color: #1f567a;\n",
       "}\n",
       "\n",
       ".badge-purple {\n",
       "  /* badge; */\n",
       "  background-color: #c9cfe8;\n",
       "  color: #373b7b;\n",
       "}\n",
       "\n",
       ".badge-green {\n",
       "  background-color: #d5f1d5;\n",
       "  color: #256b24;\n",
       "}\n",
       "\n",
       ".badge-red {\n",
       "  /* badge; */\n",
       "  background-color: #f2d9de;\n",
       "  color: #9b2737;\n",
       "}\n",
       "\n",
       ".badge-gray {\n",
       "  /* badge; */\n",
       "  background-color: #ecebef;\n",
       "  color: #2e2b3b;\n",
       "}\n",
       "\n",
       ".paginationContainer {\n",
       "  width: 100%;\n",
       "  /*height: 30px;*/\n",
       "  display: flex;\n",
       "  justify-content: center;\n",
       "  gap: 8px;\n",
       "  padding: 5px;\n",
       "  color: var(--tertiary-color);\n",
       "}\n",
       "\n",
       ".widget-label-basic {\n",
       "  display: flex;\n",
       "}\n",
       "\n",
       ".widget-label-basic input[type=\"checkbox\"][disabled] {\n",
       "  filter: sepia(0.3) hue-rotate(67deg) saturate(3);\n",
       "}\n",
       "\n",
       ".page {\n",
       "  color: black;\n",
       "  font-weight: bold;\n",
       "  color: var(--tertiary-color);\n",
       "}\n",
       "\n",
       ".page:hover {\n",
       "  color: #38bdf8;\n",
       "  cursor: pointer;\n",
       "}\n",
       "\n",
       ".clipboard:hover {\n",
       "  cursor: pointer;\n",
       "  color: var(--tertiary-color);\n",
       "}\n",
       "\n",
       ".rendered_html tbody tr:nth-child(odd) {\n",
       "  background: transparent;\n",
       "}\n",
       "\n",
       ".search-field {\n",
       "  display: flex;\n",
       "  align-items: center;\n",
       "  border-radius: 30px;\n",
       "  background-color: var(--secondary-color);\n",
       "}\n",
       "\n",
       ".syft-dropdown {\n",
       "  margin: 5px;\n",
       "  margin-left: 5px;\n",
       "  position: relative;\n",
       "  display: inline-block;\n",
       "  text-align: center;\n",
       "  background-color: var(--button-color);\n",
       "  min-width: 100px;\n",
       "  padding: 2px;\n",
       "  border-radius: 30px;\n",
       "}\n",
       "\n",
       ".syft-dropdown:hover {\n",
       "  cursor: pointer;\n",
       "}\n",
       "\n",
       ".syft-dropdown-content {\n",
       "  margin-top: 26px;\n",
       "  display: none;\n",
       "  position: absolute;\n",
       "  min-width: 100px;\n",
       "  box-shadow: 0px 8px 16px 0px rgba(0, 0, 0, 0.2);\n",
       "  padding: 12px 6px;\n",
       "  z-index: 1;\n",
       "  background-color: var(--primary-color);\n",
       "  color: var(--tertiary-color);\n",
       "}\n",
       "\n",
       ".dd-options {\n",
       "  padding-top: 4px;\n",
       "}\n",
       "\n",
       ".dd-options:first-of-type {\n",
       "  padding-top: 0px;\n",
       "}\n",
       "\n",
       ".dd-options:hover {\n",
       "  cursor: pointer;\n",
       "  background: #d1d5db;\n",
       "}\n",
       "\n",
       ".arrow {\n",
       "  border: solid black;\n",
       "  border-width: 0 3px 3px 0;\n",
       "  display: inline-block;\n",
       "  padding: 3px;\n",
       "}\n",
       "\n",
       ".down {\n",
       "  transform: rotate(45deg);\n",
       "  -webkit-transform: rotate(45deg);\n",
       "}\n",
       "\n",
       ".syft-widget ul {\n",
       "  list-style-type: none;\n",
       "  margin: 0;\n",
       "  padding: 0;\n",
       "  overflow: hidden;\n",
       "}\n",
       "\n",
       ".syft-widget li {\n",
       "  float: left;\n",
       "  border-bottom: solid;\n",
       "  border-bottom-color: #cfcdd6;\n",
       "}\n",
       "\n",
       ".syft-widget li a {\n",
       "  display: block;\n",
       "  text-align: center;\n",
       "  padding: 14px 16px;\n",
       "  color: #cfcdd6;\n",
       "}\n",
       "\n",
       ".log-tab-header {\n",
       "  border-bottom: solid 2px #ecebef;\n",
       "  padding: 4px 16px;\n",
       "}\n",
       "\n",
       ".active-border {\n",
       "  border-bottom: solid 2px #1f567a;\n",
       "  font-weight: 700;\n",
       "}\n",
       "\n",
       ".active {\n",
       "  color: #1f567a;\n",
       "}\n",
       "\n",
       ".syft-widget li a:hover {\n",
       "  background-color: #c2def0;\n",
       "}\n",
       "\n",
       ".syft-user_code,\n",
       ".syft-project,\n",
       ".syft-project-create,\n",
       ".syft-settings,\n",
       ".syft-dataset,\n",
       ".syft-asset,\n",
       ".syft-contributor,\n",
       ".syft-request,\n",
       ".syft-syncstate,\n",
       ".job-info {\n",
       "  color: var(--surface-color);\n",
       "}\n",
       "\n",
       ".syft-dataset h1,\n",
       ".syft-dataset h2,\n",
       ".syft-dataset h3,\n",
       ".syft-dataset p,\n",
       ".syft-asset h3,\n",
       ".syft-asset p,\n",
       ".syft-syncstate h3,\n",
       ".syft-syncstate p {\n",
       "  font-family: \"Open Sans\";\n",
       "}\n",
       "\n",
       ".diff-container {\n",
       "  border: 0.5px solid #b4b0bf;\n",
       "}\n",
       "\n",
       ".syft-container {\n",
       "  padding: 5px;\n",
       "  font-family: \"Open Sans\";\n",
       "}\n",
       "\n",
       ".syft-alert-info {\n",
       "  color: #1f567a;\n",
       "  background-color: #c2def0;\n",
       "  border-radius: 4px;\n",
       "  padding: 5px;\n",
       "  padding: 13px 10px;\n",
       "}\n",
       "\n",
       ".syft-code-block {\n",
       "  background-color: #f7f7f7;\n",
       "  border: 1px solid #cfcfcf;\n",
       "  padding: 0px 2px;\n",
       "}\n",
       "\n",
       ".syft-space {\n",
       "  margin-top: 1em;\n",
       "}\n",
       "\n",
       "</style>\n",
       "\n",
       "<style>\n",
       ".syft-alert-container {\n",
       "    padding: 4px;\n",
       "    display: flex;\n",
       "    justify-content: center;\n",
       "}\n",
       "\n",
       ".syft-alert-info {\n",
       "    display: flex;\n",
       "    align-items: center;\n",
       "    width: 100%;\n",
       "    padding: 8px 10px;\n",
       "    gap: 8px;\n",
       "    border-radius: 4px;\n",
       "    background: #C2DEF0;\n",
       "    color: #1F567A;\n",
       "    line-height: 1.4;\n",
       "    font-size: 12px;\n",
       "    font-family: 'Open Sans';\n",
       "}\n",
       "</style>\n",
       "<style>\n",
       ".copy-container {\n",
       "  cursor: pointer;\n",
       "  border-radius: 3px;\n",
       "  padding: 0px 3px;\n",
       "  display: inline-block;\n",
       "  transition: background-color 0.3s;\n",
       "  user-select: none;\n",
       "  color: #B4B0BF;\n",
       "  overflow: hidden;\n",
       "  white-space: nowrap;\n",
       "  vertical-align: middle;\n",
       "}\n",
       "\n",
       ".copy-container:hover {\n",
       "  background-color: #f5f5f5;\n",
       "}\n",
       "\n",
       ".copy-container:active {\n",
       "  background-color: #ebebeb;\n",
       "}\n",
       "\n",
       ".copy-text-display {\n",
       "  display: inline-block;\n",
       "  max-width: 50px;\n",
       "  white-space: nowrap;\n",
       "  overflow: hidden;\n",
       "  text-overflow: ellipsis;\n",
       "  vertical-align: bottom;\n",
       "}\n",
       "</style>\n",
       " \n",
       "            \n",
       "            <div class=\"syft-settings\">\n",
       "                <h3>Settings</h3>\n",
       "                <p><strong>Id: </strong>91f093c3bdb4485da61fb006aa045b37</p>\n",
       "                <p><strong>Name: </strong>Evaluating PySyft</p>\n",
       "                <p><strong>Organization: </strong>OpenMined</p>\n",
       "                <p><strong>Description: </strong>This is the default description for a Datasite Server.</p>\n",
       "                <p><strong>Deployed on: </strong>08/03/2024</p>\n",
       "                <p><strong>Signup enabled: </strong>False</p>\n",
       "                <p><strong>Notifications enabled: </strong>Disabled</p>\n",
       "                <p><strong>Admin email: </strong>sba23021@student.cct.ie</p>\n",
       "            </div>\n",
       "\n",
       "             "
      ],
      "text/markdown": [
       "```python\n",
       "class ServerSettings:\n",
       "  id: str = 91f093c3bdb4485da61fb006aa045b37\n",
       "  name: str = \"Evaluating PySyft\"\n",
       "  organization: str = \"OpenMined\"\n",
       "  description: str = \"This is the default description for a Datasite Server.\"\n",
       "  deployed_on: str = \"08/03/2024\"\n",
       "  signup_enabled: str = False\n",
       "  admin_email: str = \"sba23021@student.cct.ie\"\n",
       "\n",
       "```"
      ],
      "text/plain": [
       "syft.service.settings.settings.ServerSettings"
      ]
     },
     "execution_count": 10,
     "metadata": {},
     "output_type": "execute_result"
    }
   ],
   "source": [
    "# Get the current settings of the server\n",
    "root_client.settings.get()"
   ]
  },
  {
   "cell_type": "code",
   "execution_count": 11,
   "id": "15",
   "metadata": {},
   "outputs": [
    {
     "name": "stdout",
     "output_type": "stream",
     "text": [
      "INFO:     127.0.0.1:57808 - \"POST /api/v2/api_call HTTP/1.1\" 200 OK\n"
     ]
    },
    {
     "data": {
      "text/html": [
       "<div class=\"alert-success\" style=\"padding:5px;\"><strong>SyftSuccess</strong>: <pre class=\"alert-success\" style=\"display:inline; font-family:inherit;\">Registration feature successfully enabled</pre></div><br/>"
      ],
      "text/plain": [
       "SyftSuccess: Registration feature successfully enabled"
      ]
     },
     "execution_count": 11,
     "metadata": {},
     "output_type": "execute_result"
    }
   ],
   "source": [
    "# Enable guest signups\n",
    "root_client.settings.allow_guest_signup(enable=True)"
   ]
  },
  {
   "cell_type": "code",
   "execution_count": 12,
   "id": "16",
   "metadata": {},
   "outputs": [
    {
     "name": "stdout",
     "output_type": "stream",
     "text": [
      "INFO:     127.0.0.1:57816 - \"GET /api/v2/metadata HTTP/1.1\" 200 OK\n",
      "INFO:     127.0.0.1:57816 - \"POST /api/v2/login HTTP/1.1\" 200 OK\n",
      "INFO:     127.0.0.1:57816 - \"GET /api/v2/api?verify_key=ba46610f539d671d18f0ffa7775c829a7614bc10a201da7e4b0ae2065959a8be&communication_protocol=3 HTTP/1.1\" 200 OK\n",
      "INFO:     127.0.0.1:57824 - \"POST /api/v2/api_call HTTP/1.1\" 200 OK\n",
      "Logged into <Evaluating PySyft: High side Datasite> as <sba23021@student.cct.ie>\n"
     ]
    },
    {
     "data": {
      "text/html": [
       "<div class=\"alert-warning\" style=\"padding:5px;\"><strong>SyftWarning</strong>: <pre class=\"alert-warning\" style=\"display:inline; font-family:inherit;\">You are logged in as the data owner.</pre></div><br/>"
      ],
      "text/plain": [
       "SyftWarning: You are logged in as the data owner."
      ]
     },
     "metadata": {},
     "output_type": "display_data"
    }
   ],
   "source": [
    "# Refresh the root client to fetch the updated settings\n",
    "root_client = server.login(email=\"sba23021@student.cct.ie\", password=\"abc54321\")"
   ]
  },
  {
   "cell_type": "code",
   "execution_count": 13,
   "id": "17",
   "metadata": {},
   "outputs": [
    {
     "name": "stdout",
     "output_type": "stream",
     "text": [
      "INFO:     127.0.0.1:57832 - \"GET /api/v2/metadata HTTP/1.1\" 200 OK\n",
      "Logged into <Evaluating PySyft: High-side Datasite> as GUEST\n",
      "INFO:     127.0.0.1:57832 - \"POST /api/v2/register HTTP/1.1\" 200 OK\n"
     ]
    },
    {
     "data": {
      "text/html": [
       "<div class=\"alert-success\" style=\"padding:5px;\"><strong>SyftSuccess</strong>: <pre class=\"alert-success\" style=\"display:inline; font-family:inherit;\">User 'Victoria Zambrotta' successfully registered!</pre></div><br/>"
      ],
      "text/plain": [
       "SyftSuccess: User 'Victoria Zambrotta' successfully registered!"
      ]
     },
     "execution_count": 13,
     "metadata": {},
     "output_type": "execute_result"
    }
   ],
   "source": [
    "# Register a new user as a GUEST\n",
    "response_2 = server.register(\n",
    "    email=\"sba23028@student.cct.ie\",\n",
    "    password=\"1rIzHAx6uQaP\",\n",
    "    password_verify=\"1rIzHAx6uQaP\",\n",
    "    name=\"Victoria Zambrotta\",\n",
    ")\n",
    "response_2"
   ]
  },
  {
   "cell_type": "code",
   "execution_count": 14,
   "id": "18",
   "metadata": {},
   "outputs": [
    {
     "name": "stdout",
     "output_type": "stream",
     "text": [
      "INFO:     127.0.0.1:57842 - \"GET /api/v2/metadata HTTP/1.1\" 200 OK\n",
      "Logged into <Evaluating PySyft: High-side Datasite> as GUEST\n",
      "INFO:     127.0.0.1:57842 - \"POST /api/v2/register HTTP/1.1\" 200 OK\n"
     ]
    },
    {
     "data": {
      "text/html": [
       "<div class=\"alert-success\" style=\"padding:5px;\"><strong>SyftSuccess</strong>: <pre class=\"alert-success\" style=\"display:inline; font-family:inherit;\">User 'Kevin Brennans' successfully registered!</pre></div><br/>"
      ],
      "text/plain": [
       "SyftSuccess: User 'Kevin Brennans' successfully registered!"
      ]
     },
     "execution_count": 14,
     "metadata": {},
     "output_type": "execute_result"
    }
   ],
   "source": [
    "# Register a new user as a GUEST\n",
    "response_3 = server.register(\n",
    "    email=\"sba23029@student.cct.ie\",\n",
    "    password=\"5v1ei4OM2N4m\",\n",
    "    password_verify=\"5v1ei4OM2N4m\",\n",
    "    name=\"Kevin Brennans\",\n",
    ")\n",
    "response_3"
   ]
  },
  {
   "cell_type": "code",
   "execution_count": 15,
   "id": "19",
   "metadata": {},
   "outputs": [
    {
     "name": "stdout",
     "output_type": "stream",
     "text": [
      "INFO:     127.0.0.1:57856 - \"POST /api/v2/api_call HTTP/1.1\" 200 OK\n"
     ]
    }
   ],
   "source": [
    "assert root_client.settings.get().signup_enabled is True\n",
    "assert isinstance(response_1, sy.SyftSuccess)\n",
    "assert isinstance(response_2, sy.SyftSuccess)\n",
    "assert isinstance(response_3, sy.SyftSuccess)"
   ]
  },
  {
   "cell_type": "markdown",
   "id": "20",
   "metadata": {},
   "source": [
    "### Toggle signup again"
   ]
  },
  {
   "cell_type": "code",
   "execution_count": 16,
   "id": "21",
   "metadata": {},
   "outputs": [
    {
     "name": "stdout",
     "output_type": "stream",
     "text": [
      "INFO:     127.0.0.1:57872 - \"POST /api/v2/api_call HTTP/1.1\" 200 OK\n"
     ]
    },
    {
     "data": {
      "text/html": [
       "<div class=\"alert-success\" style=\"padding:5px;\"><strong>SyftSuccess</strong>: <pre class=\"alert-success\" style=\"display:inline; font-family:inherit;\">Registration feature successfully disabled</pre></div><br/>"
      ],
      "text/plain": [
       "SyftSuccess: Registration feature successfully disabled"
      ]
     },
     "execution_count": 16,
     "metadata": {},
     "output_type": "execute_result"
    }
   ],
   "source": [
    "# Refresh the root client\n",
    "root_client.settings.allow_guest_signup(enable=False)"
   ]
  },
  {
   "cell_type": "code",
   "execution_count": 17,
   "id": "22",
   "metadata": {},
   "outputs": [
    {
     "name": "stdout",
     "output_type": "stream",
     "text": [
      "INFO:     127.0.0.1:57878 - \"GET /api/v2/metadata HTTP/1.1\" 200 OK\n",
      "INFO:     127.0.0.1:57878 - \"POST /api/v2/login HTTP/1.1\" 200 OK\n",
      "INFO:     127.0.0.1:57878 - \"GET /api/v2/api?verify_key=ba46610f539d671d18f0ffa7775c829a7614bc10a201da7e4b0ae2065959a8be&communication_protocol=3 HTTP/1.1\" 200 OK\n",
      "INFO:     127.0.0.1:43086 - \"POST /api/v2/api_call HTTP/1.1\" 200 OK\n",
      "Logged into <Evaluating PySyft: High side Datasite> as <sba23021@student.cct.ie>\n"
     ]
    },
    {
     "data": {
      "text/html": [
       "<div class=\"alert-warning\" style=\"padding:5px;\"><strong>SyftWarning</strong>: <pre class=\"alert-warning\" style=\"display:inline; font-family:inherit;\">You are logged in as the data owner.</pre></div><br/>"
      ],
      "text/plain": [
       "SyftWarning: You are logged in as the data owner."
      ]
     },
     "metadata": {},
     "output_type": "display_data"
    }
   ],
   "source": [
    "# Refresh the root client to fetch the updated settings\n",
    "root_client = server.login(email=\"sba23021@student.cct.ie\", password=\"abc54321\")"
   ]
  },
  {
   "cell_type": "code",
   "execution_count": 18,
   "id": "23",
   "metadata": {},
   "outputs": [
    {
     "name": "stdout",
     "output_type": "stream",
     "text": [
      "INFO:     127.0.0.1:43088 - \"GET /api/v2/metadata HTTP/1.1\" 200 OK\n",
      "Logged into <Evaluating PySyft: High-side Datasite> as GUEST\n",
      "INFO:     127.0.0.1:43088 - \"POST /api/v2/register HTTP/1.1\" 200 OK\n"
     ]
    },
    {
     "name": "stderr",
     "output_type": "stream",
     "text": [
      "ERROR:syft.server.routes:Register Error: You don't have permission to create an account on the datasite: Evaluating PySyft. Please contact the Datasite Owner.. user={'id': <UID: da1013ca7c1941dca047c6e535c817f4>, 'created_date': None, 'updated_date': None, 'deleted_date': None, 'email': 'sba23030@student.cct.ie', 'name': 'Thomas Stankovic', 'role': None, 'password': 'SKY5cC2zQPRP', 'password_verify': 'SKY5cC2zQPRP', 'verify_key': None, 'institution': None, 'website': None, 'created_by': {'signing_key': <nacl.signing.SigningKey object at 0x7a6a1f287730>}, 'mock_execution_permission': False}\n"
     ]
    },
    {
     "data": {
      "text/html": [
       "<div class=\"alert-danger\" style=\"padding:5px;\"><strong>SyftError</strong>: <pre class=\"alert-danger\" style=\"display:inline; font-family:inherit;\">You don't have permission to create an account on the datasite: Evaluating PySyft. Please contact the Datasite Owner.</pre></div><br/>"
      ],
      "text/plain": [
       "SyftError: You don't have permission to create an account on the datasite: Evaluating PySyft. Please contact the Datasite Owner."
      ]
     },
     "execution_count": 18,
     "metadata": {},
     "output_type": "execute_result"
    }
   ],
   "source": [
    "# Register a new user as a GUEST\n",
    "response_2 = server.register(\n",
    "    email=\"sba23030@student.cct.ie\",\n",
    "    password=\"SKY5cC2zQPRP\",\n",
    "    password_verify=\"SKY5cC2zQPRP\",\n",
    "    name=\"Thomas Stankovic\",\n",
    ")\n",
    "response_2"
   ]
  },
  {
   "cell_type": "code",
   "execution_count": 19,
   "id": "24",
   "metadata": {},
   "outputs": [
    {
     "name": "stdout",
     "output_type": "stream",
     "text": [
      "INFO:     127.0.0.1:43100 - \"GET /api/v2/metadata HTTP/1.1\" 200 OK\n",
      "Logged into <Evaluating PySyft: High-side Datasite> as GUEST\n",
      "INFO:     127.0.0.1:43100 - \"POST /api/v2/register HTTP/1.1\" 200 OK\n"
     ]
    },
    {
     "name": "stderr",
     "output_type": "stream",
     "text": [
      "ERROR:syft.server.routes:Register Error: You don't have permission to create an account on the datasite: Evaluating PySyft. Please contact the Datasite Owner.. user={'id': <UID: 2091f35d6ce34e268b3b5872e1af4e36>, 'created_date': None, 'updated_date': None, 'deleted_date': None, 'email': 'sba23031@student.cct.ie', 'name': 'Elena Vinokurov', 'role': None, 'password': '7eVGUuNDyH8P', 'password_verify': '7eVGUuNDyH8P', 'verify_key': None, 'institution': None, 'website': None, 'created_by': {'signing_key': <nacl.signing.SigningKey object at 0x7a6a1f287c70>}, 'mock_execution_permission': False}\n"
     ]
    },
    {
     "data": {
      "text/html": [
       "<div class=\"alert-danger\" style=\"padding:5px;\"><strong>SyftError</strong>: <pre class=\"alert-danger\" style=\"display:inline; font-family:inherit;\">You don't have permission to create an account on the datasite: Evaluating PySyft. Please contact the Datasite Owner.</pre></div><br/>"
      ],
      "text/plain": [
       "SyftError: You don't have permission to create an account on the datasite: Evaluating PySyft. Please contact the Datasite Owner."
      ]
     },
     "execution_count": 19,
     "metadata": {},
     "output_type": "execute_result"
    }
   ],
   "source": [
    "# Register a new user as a GUEST\n",
    "response_3 = server.register(\n",
    "    email=\"sba23031@student.cct.ie\",\n",
    "    password=\"7eVGUuNDyH8P\",\n",
    "    password_verify=\"7eVGUuNDyH8P\",\n",
    "    name=\"Elena Vinokurov\",\n",
    ")\n",
    "response_3"
   ]
  },
  {
   "cell_type": "code",
   "execution_count": 20,
   "id": "25",
   "metadata": {},
   "outputs": [
    {
     "name": "stdout",
     "output_type": "stream",
     "text": [
      "INFO:     127.0.0.1:43112 - \"POST /api/v2/api_call HTTP/1.1\" 200 OK\n"
     ]
    }
   ],
   "source": [
    "assert root_client.settings.get().signup_enabled is False\n",
    "assert isinstance(response_1, sy.SyftSuccess)\n",
    "assert isinstance(response_2, sy.SyftError)\n",
    "assert isinstance(response_3, sy.SyftError)"
   ]
  },
  {
   "cell_type": "code",
   "execution_count": 21,
   "id": "26",
   "metadata": {},
   "outputs": [],
   "source": [
    "# Cleanup local datasite server\n",
    "\n",
    "if server.server_type.value == \"python\":\n",
    "    server.land()"
   ]
  },
  {
   "cell_type": "markdown",
   "id": "154b43e6-8eb4-4833-a3a9-5ef54d862b74",
   "metadata": {},
   "source": [
    "## Reference:\n",
    "https://github.com/OpenMined/PySyft/tree/dev/notebooks/api/0.8"
   ]
  }
 ],
 "metadata": {
  "kernelspec": {
   "display_name": "Python 3 (ipykernel)",
   "language": "python",
   "name": "python3"
  },
  "language_info": {
   "codemirror_mode": {
    "name": "ipython",
    "version": 3
   },
   "file_extension": ".py",
   "mimetype": "text/x-python",
   "name": "python",
   "nbconvert_exporter": "python",
   "pygments_lexer": "ipython3",
   "version": "3.10.12"
  },
  "toc": {
   "base_numbering": 1,
   "nav_menu": {},
   "number_sections": true,
   "sideBar": true,
   "skip_h1_title": false,
   "title_cell": "Table of Contents",
   "title_sidebar": "Contents",
   "toc_cell": false,
   "toc_position": {},
   "toc_section_display": true,
   "toc_window_display": false
  }
 },
 "nbformat": 4,
 "nbformat_minor": 5
}
